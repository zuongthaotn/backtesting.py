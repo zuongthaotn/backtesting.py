{
 "cells": [
  {
   "cell_type": "code",
   "execution_count": 3,
   "metadata": {},
   "outputs": [],
   "source": [
    "import os\n",
    "import numpy as np\n",
    "import sys\n",
    "\n",
    "MODULE_FULL_PATH = '/home/zuongthao/GIT/zuongthaotn/backtesting.py'\n",
    "sys.path.insert(1, MODULE_FULL_PATH)\n",
    "from backtesting import Backtest, Strategy\n",
    "from backtesting.magnus import get_pricing\n",
    "from backtesting.test import SMA\n",
    "from backtesting.lib import crossover\n",
    "import method.Ticker as Ticker\n",
    "import method.TakeProfit as TakeProfit\n",
    "import method.CutLoss as CutLoss"
   ]
  },
  {
   "cell_type": "code",
   "execution_count": 11,
   "metadata": {},
   "outputs": [],
   "source": [
    "path = os.getcwd()\n",
    "class FollowTheTrend(Strategy):\n",
    "    def init(self):\n",
    "        self.buy_price = 0\n",
    "        self._index = 0\n",
    "    def next(self):\n",
    "        prices = self.data.Close\n",
    "        opens = self.data.Open\n",
    "        volumes = self.data.Volume\n",
    "        if len(self.data.Volume) > 5:\n",
    "            last_price = prices[-1]\n",
    "            if self.buy_price == 0 and Ticker.isFollowTrendingV2(prices, volumes, opens[-1], 2.5):\n",
    "                self.buy_price = last_price\n",
    "                self.buy()\n",
    "            if self.buy_price != 0 and (TakeProfit.takeProfit(5, last_price, self.buy_price) or CutLoss.shouldCutLossByPercent(8, last_price, self.buy_price)):\n",
    "                self.position.close()\n",
    "                self.buy_price = 0"
   ]
  },
  {
   "cell_type": "code",
   "execution_count": 12,
   "metadata": {},
   "outputs": [],
   "source": [
    "ticker_id = 'PNJ'\n",
    "ticker = get_pricing(ticker_id+'.csv', '2018-01-01', '2020-10-05')\n",
    "bt = Backtest(ticker, FollowTheTrend, commission=.005, exclusive_orders=False)\n",
    "stats = bt.run()"
   ]
  },
  {
   "cell_type": "code",
   "execution_count": 13,
   "metadata": {},
   "outputs": [
    {
     "data": {
      "text/plain": [
       "Start                     2018-01-02 00:00:00\n",
       "End                       2020-10-05 00:00:00\n",
       "Duration                   1007 days 00:00:00\n",
       "Exposure Time [%]                     9.46143\n",
       "Equity Final [$]                      12027.5\n",
       "Equity Peak [$]                         12041\n",
       "Return [%]                             20.275\n",
       "Buy & Hold Return [%]                -3.26894\n",
       "Return (Ann.) [%]                     7.00629\n",
       "Volatility (Ann.) [%]                 8.94714\n",
       "Sharpe Ratio                         0.783076\n",
       "Sortino Ratio                         1.47626\n",
       "Calmar Ratio                         0.746367\n",
       "Max. Drawdown [%]                     -9.3872\n",
       "Avg. Drawdown [%]                    -2.36054\n",
       "Max. Drawdown Duration      266 days 00:00:00\n",
       "Avg. Drawdown Duration       35 days 00:00:00\n",
       "# Trades                                    4\n",
       "Win Rate [%]                              100\n",
       "Best Trade [%]                        5.35556\n",
       "Worst Trade [%]                        4.0679\n",
       "Avg. Trade [%]                        4.74024\n",
       "Max. Trade Duration          50 days 00:00:00\n",
       "Avg. Trade Duration          23 days 00:00:00\n",
       "Profit Factor                             NaN\n",
       "Expectancy [%]                            NaN\n",
       "SQN                                   21.5712\n",
       "_strategy                      FollowTheTrend\n",
       "_equity_curve                             ...\n",
       "_trades                      Size  EntryBa...\n",
       "dtype: object"
      ]
     },
     "execution_count": 13,
     "metadata": {},
     "output_type": "execute_result"
    }
   ],
   "source": [
    "stats"
   ]
  },
  {
   "cell_type": "code",
   "execution_count": 14,
   "metadata": {},
   "outputs": [
    {
     "data": {
      "text/html": [
       "<div>\n",
       "<style scoped>\n",
       "    .dataframe tbody tr th:only-of-type {\n",
       "        vertical-align: middle;\n",
       "    }\n",
       "\n",
       "    .dataframe tbody tr th {\n",
       "        vertical-align: top;\n",
       "    }\n",
       "\n",
       "    .dataframe thead th {\n",
       "        text-align: right;\n",
       "    }\n",
       "</style>\n",
       "<table border=\"1\" class=\"dataframe\">\n",
       "  <thead>\n",
       "    <tr style=\"text-align: right;\">\n",
       "      <th></th>\n",
       "      <th>Size</th>\n",
       "      <th>EntryBar</th>\n",
       "      <th>ExitBar</th>\n",
       "      <th>EntryPrice</th>\n",
       "      <th>ExitPrice</th>\n",
       "      <th>PnL</th>\n",
       "      <th>ReturnPct</th>\n",
       "      <th>EntryTime</th>\n",
       "      <th>ExitTime</th>\n",
       "      <th>Duration</th>\n",
       "    </tr>\n",
       "  </thead>\n",
       "  <tbody>\n",
       "    <tr>\n",
       "      <th>0</th>\n",
       "      <td>135</td>\n",
       "      <td>151</td>\n",
       "      <td>186</td>\n",
       "      <td>73.694640</td>\n",
       "      <td>77.6414</td>\n",
       "      <td>532.812600</td>\n",
       "      <td>0.053556</td>\n",
       "      <td>2018-08-15</td>\n",
       "      <td>2018-10-04</td>\n",
       "      <td>50 days</td>\n",
       "    </tr>\n",
       "    <tr>\n",
       "      <th>1</th>\n",
       "      <td>140</td>\n",
       "      <td>335</td>\n",
       "      <td>338</td>\n",
       "      <td>75.122544</td>\n",
       "      <td>78.4467</td>\n",
       "      <td>465.381840</td>\n",
       "      <td>0.044250</td>\n",
       "      <td>2019-05-16</td>\n",
       "      <td>2019-05-21</td>\n",
       "      <td>5 days</td>\n",
       "    </tr>\n",
       "    <tr>\n",
       "      <th>2</th>\n",
       "      <td>146</td>\n",
       "      <td>383</td>\n",
       "      <td>392</td>\n",
       "      <td>74.947071</td>\n",
       "      <td>78.7826</td>\n",
       "      <td>559.987234</td>\n",
       "      <td>0.051177</td>\n",
       "      <td>2019-07-23</td>\n",
       "      <td>2019-08-05</td>\n",
       "      <td>13 days</td>\n",
       "    </tr>\n",
       "    <tr>\n",
       "      <th>3</th>\n",
       "      <td>138</td>\n",
       "      <td>492</td>\n",
       "      <td>506</td>\n",
       "      <td>83.602432</td>\n",
       "      <td>87.0033</td>\n",
       "      <td>469.319715</td>\n",
       "      <td>0.040679</td>\n",
       "      <td>2019-12-24</td>\n",
       "      <td>2020-01-14</td>\n",
       "      <td>21 days</td>\n",
       "    </tr>\n",
       "  </tbody>\n",
       "</table>\n",
       "</div>"
      ],
      "text/plain": [
       "   Size  EntryBar  ExitBar  EntryPrice  ExitPrice         PnL  ReturnPct  \\\n",
       "0   135       151      186   73.694640    77.6414  532.812600   0.053556   \n",
       "1   140       335      338   75.122544    78.4467  465.381840   0.044250   \n",
       "2   146       383      392   74.947071    78.7826  559.987234   0.051177   \n",
       "3   138       492      506   83.602432    87.0033  469.319715   0.040679   \n",
       "\n",
       "   EntryTime   ExitTime Duration  \n",
       "0 2018-08-15 2018-10-04  50 days  \n",
       "1 2019-05-16 2019-05-21   5 days  \n",
       "2 2019-07-23 2019-08-05  13 days  \n",
       "3 2019-12-24 2020-01-14  21 days  "
      ]
     },
     "execution_count": 14,
     "metadata": {},
     "output_type": "execute_result"
    }
   ],
   "source": [
    "stats['_trades']"
   ]
  },
  {
   "cell_type": "code",
   "execution_count": null,
   "metadata": {},
   "outputs": [],
   "source": []
  }
 ],
 "metadata": {
  "kernelspec": {
   "display_name": "Python 3",
   "language": "python",
   "name": "python3"
  },
  "language_info": {
   "codemirror_mode": {
    "name": "ipython",
    "version": 3
   },
   "file_extension": ".py",
   "mimetype": "text/x-python",
   "name": "python",
   "nbconvert_exporter": "python",
   "pygments_lexer": "ipython3",
   "version": "3.8.3"
  }
 },
 "nbformat": 4,
 "nbformat_minor": 4
}
