{
 "cells": [
  {
   "cell_type": "code",
   "execution_count": 2,
   "metadata": {},
   "outputs": [],
   "source": [
    "import os\n",
    "import numpy as np\n",
    "import sys\n",
    "\n",
    "MODULE_FULL_PATH = '/home/zuongthao/GIT/zuongthaotn/backtesting.py'\n",
    "sys.path.insert(1, MODULE_FULL_PATH)\n",
    "from backtesting import Backtest, Strategy\n",
    "from backtesting.magnus import get_pricing\n",
    "from backtesting.test import SMA\n",
    "from backtesting.lib import crossover\n",
    "import method.Ticker as Ticker\n",
    "import method.TakeProfit as TakeProfit\n",
    "import method.CutLoss as CutLoss"
   ]
  },
  {
   "cell_type": "code",
   "execution_count": 3,
   "metadata": {},
   "outputs": [],
   "source": [
    "path = os.getcwd()\n",
    "class StockBreakOut(Strategy):\n",
    "    def init(self):\n",
    "        self.buy_price = 0\n",
    "        self._index = 0\n",
    "    def next(self):\n",
    "        prices = self.data.Close\n",
    "        if len(self.data.Volume) > 66:\n",
    "            last_price = prices[-1]\n",
    "            if self.buy_price == 0 and Ticker.isStockOut(prices):\n",
    "                self.buy_price = last_price\n",
    "                self.buy()\n",
    "            if self.buy_price != 0 and (TakeProfit.takeProfit(5, last_price, self.buy_price) or CutLoss.shouldCutLossByPercent(8, last_price, self.buy_price)):\n",
    "                self.position.close()\n",
    "                self.buy_price = 0"
   ]
  },
  {
   "cell_type": "code",
   "execution_count": 8,
   "metadata": {},
   "outputs": [],
   "source": [
    "ticker_id = 'BID'\n",
    "ticker = get_pricing(ticker_id+'.csv', '2018-01-01', '2020-10-05')\n",
    "bt = Backtest(ticker, StockBreakOut, commission=.005, exclusive_orders=False)\n",
    "stats = bt.run()"
   ]
  },
  {
   "cell_type": "code",
   "execution_count": 9,
   "metadata": {},
   "outputs": [
    {
     "data": {
      "text/plain": [
       "Start                     2018-01-02 00:00:00\n",
       "End                       2020-10-05 00:00:00\n",
       "Duration                   1007 days 00:00:00\n",
       "Exposure Time [%]                     26.0553\n",
       "Equity Final [$]                        13344\n",
       "Equity Peak [$]                         13674\n",
       "Return [%]                            33.4405\n",
       "Buy & Hold Return [%]                 52.1583\n",
       "Return (Ann.) [%]                     11.1622\n",
       "Volatility (Ann.) [%]                 14.7581\n",
       "Sharpe Ratio                         0.756341\n",
       "Sortino Ratio                          1.3985\n",
       "Calmar Ratio                          0.55297\n",
       "Max. Drawdown [%]                    -20.1859\n",
       "Avg. Drawdown [%]                    -2.80918\n",
       "Max. Drawdown Duration      223 days 00:00:00\n",
       "Avg. Drawdown Duration       20 days 00:00:00\n",
       "# Trades                                   10\n",
       "Win Rate [%]                               80\n",
       "Best Trade [%]                        12.0249\n",
       "Worst Trade [%]                      -9.41253\n",
       "Avg. Trade [%]                        3.05554\n",
       "Max. Trade Duration          65 days 00:00:00\n",
       "Avg. Trade Duration          25 days 00:00:00\n",
       "Profit Factor                         2.92841\n",
       "Expectancy [%]                        6.62508\n",
       "SQN                                   1.55485\n",
       "_strategy                       StockBreakOut\n",
       "_equity_curve                             ...\n",
       "_trades                      Size  EntryBa...\n",
       "dtype: object"
      ]
     },
     "execution_count": 9,
     "metadata": {},
     "output_type": "execute_result"
    }
   ],
   "source": [
    "stats"
   ]
  },
  {
   "cell_type": "code",
   "execution_count": null,
   "metadata": {},
   "outputs": [],
   "source": [
    "stats['_trades']"
   ]
  },
  {
   "cell_type": "code",
   "execution_count": null,
   "metadata": {},
   "outputs": [],
   "source": [
    "bt.plot()"
   ]
  }
 ],
 "metadata": {
  "kernelspec": {
   "display_name": "Python 3",
   "language": "python",
   "name": "python3"
  },
  "language_info": {
   "codemirror_mode": {
    "name": "ipython",
    "version": 3
   },
   "file_extension": ".py",
   "mimetype": "text/x-python",
   "name": "python",
   "nbconvert_exporter": "python",
   "pygments_lexer": "ipython3",
   "version": "3.8.3"
  }
 },
 "nbformat": 4,
 "nbformat_minor": 4
}
